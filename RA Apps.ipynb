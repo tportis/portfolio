{
 "cells": [
  {
   "cell_type": "markdown",
   "metadata": {},
   "source": [
    "## Overview\n",
    "For the 20-21 Resident Assistant process, this code was used to clean data exported from the Microsoft forms containing the RA applications, returner intent to return, and residential data. The code merges information together to form one spreadsheet for the pool."
   ]
  },
  {
   "cell_type": "code",
   "execution_count": 1,
   "metadata": {},
   "outputs": [],
   "source": [
    "import pandas as pd"
   ]
  },
  {
   "cell_type": "markdown",
   "metadata": {},
   "source": [
    "## New Applicants"
   ]
  },
  {
   "cell_type": "code",
   "execution_count": null,
   "metadata": {},
   "outputs": [],
   "source": [
    "new_apps = pd.read_excel('Resident Advisor Application.xlsx')"
   ]
  },
  {
   "cell_type": "code",
   "execution_count": null,
   "metadata": {},
   "outputs": [],
   "source": [
    "#Change column names\n",
    "new_column_name_changes = {\n",
    "   \n",
    "    'Name2':'Name',\n",
    "    \n",
    "    'Do you plan to study abroad during the 2020-2021 academic year? Plans to study abroad do NOT automatically disqualify you from being an RA.':'Study Abroad Plans',\n",
    "    \"Please tell us about any leadership or extracurricular involvements that you've had during your time at UVM thus far. What are some things you are also planning to become involved in the next acad...\":'Extracurriculars',\n",
    "    'Please indicate which learning community you are a part of for the 2020-2021 academic year.':'Current LC',\n",
    "       \n",
    "    'Which Learning Community is your FIRST preference':'LC Preference - First',\n",
    "    'Which Learning Community is your SECOND preference':'LC Preference - Second',\n",
    "    'Which Learning Community is your THIRD preference':'LC Preference - Third',\n",
    "    'In the event, you are selected as an RA but we are not able to place you within your top three preferences, please indicate any other learning communities you would like to be considered for. PLEA...':'Other LCs of Interest',\n",
    "    \n",
    "    'Are you interested in potentially being in the Wellness Environment as an RA, please indicate whether you have successfully completed the required COMU001: Healthy Brains, Healthy Bodies (HBHB) Co...':'Qualify for WE',\n",
    "    'Are you a current HONORS COLLEGE student (regardless of whether you live in the Honors College community or not)':'Honors',\n",
    "    \n",
    "    'Do you plan to apply for a Community Student Leader (CSL) position, regardless of whether you are an RA or not?':'Intent to Apply for CSL',\n",
    "    ' If yes, please indicate where. If not, please respond “N/A”':'Intent to Apply to CSL - Where',\n",
    "    \n",
    "    'Please tell us about a time in which you had to engage with someone with different identities from you (i.e., race, sex, gender, sexual identity, nationality, class, ability, religion, veteran sta...':'Prompt 1 Response',\n",
    "    'What are some of the core values and principles that guide your actions? How do you see these values influencing your performance as an RA? (300 word limit max)':'Prompt 2 Response',\n",
    "    'Perceiving and addressing the emotions of others is an important part of building a community. How do you respond to the emotions of others to build and strengthen relationships? (300-word limit max)':'Prompt 3 Response',\n",
    "    'Tell us how you go about meeting new people? What do you find rewarding about building new relationships? What are some challenges you face in meeting new people and building relationships? How ha...':'Prompt 4 Response',\n",
    "    'Tell us about a time you were involved in a conflict. Walk us through how the conflict was addressed. What happened at the end of the conflict for everyone involved? (300-word limit max)':'Prompt 5 Response',\n",
    "    \n",
    "    'Interviews Reccommendations':'Interview Recommendations'\n",
    "}\n",
    "\n",
    "new_apps=new_apps.rename(columns = new_column_name_changes)"
   ]
  },
  {
   "cell_type": "code",
   "execution_count": null,
   "metadata": {},
   "outputs": [],
   "source": [
    "#Select relevant columns\n",
    "relevant_columns = [\n",
    "    'ID', 'Status', 'Name',\n",
    "    'Email', 'Net ID', 'Cell Phone Number',\n",
    "    'Number of Semesters Completed at UVM', 'Anticipated Graduation Year',\n",
    "    'Academic College', 'Study Abroad Plans',\n",
    "    'Extracurriculars', 'Current LC', 'LC Preference - First',\n",
    "    'LC Preference - Second', 'LC Preference - Third',\n",
    "    'Other LCs of Interest', 'Qualify for WE', 'Honors',\n",
    "    'Intent to Apply for CSL', 'Intent to Apply to CSL - Where',\n",
    "    'Prompt 1 Response', 'Prompt 2 Response', 'Prompt 3 Response',\n",
    "    'Prompt 4 Response', 'Prompt 5 Response',\n",
    "    'Application Review 1', 'Application Score 1',\n",
    "    'Application Rationale 1', 'Application Reviewer 2',\n",
    "    'Application Score 2', 'Application Rationale 2',\n",
    "    'Application Total Score', 'Interviewer 1', 'Interview Score 1',\n",
    "    'Interview Recommendation 1', 'Interview Rational 1', 'Interviewer 2',\n",
    "    'Interview Score 2', 'Interview Recommendation 2',\n",
    "    'Interview Rational 2', 'Interview Recommendations',\n",
    "    'Hired for MidYear (Y/N)', 'MidYear Community Placement',\n",
    "    'MidYear Room Placement', 'Candidate Acceptance'\n",
    "]\n",
    "\n",
    "new_apps_revised=new_apps[relevant_columns].copy()"
   ]
  },
  {
   "cell_type": "code",
   "execution_count": null,
   "metadata": {},
   "outputs": [],
   "source": [
    "#Calculate avg and total scores and standardizes interview rcommendations\n",
    "\n",
    "new_apps_revised['Avg. Application Score']=(new_apps_revised['Application Score 1']+new_apps_revised['Application Score 2'])/2\n",
    "new_apps_revised['Avg. Interview Score']=(new_apps_revised['Interview Score 1']+new_apps_revised['Interview Score 2'])/2\n",
    "new_apps_revised['Total Interview Score']=(new_apps_revised['Interview Score 1']+new_apps_revised['Interview Score 2'])\n",
    "\n",
    "standardize_interview_recommendations = {  \n",
    "    'Recommend with RESERVATIONS & Recommend for Hire':'Recommend for Hire & Recommend with RESERVATIONS',\n",
    "    ' & ':'No Interview Conducted',\n",
    "    'Do NOT Recommend for Hire & Recommend with RESERVATIONS':'Recommend with RESERVATIONS & Do NOT Recommend for Hire',\n",
    "    'Do NOT Recommend for Hire':'Recommend for Hire & Do NOT Recommend for Hire'\n",
    "}\n",
    "new_apps_revised['Interview Recommendations'].replace(standardize_interview_recommendations,inplace=True)\n",
    "\n",
    "standardize_honors = {\n",
    "    'I AM NOT a honors college student':'No', 'I AM a honors college student':'Yes'\n",
    "}\n",
    "new_apps_revised['Honors'].replace(standardize_honors,inplace=True)\n",
    "\n",
    "standardize_WE = {\n",
    "    'I haven NOT SUCCESSFULLY completed the required HBHB course':'Yes',\n",
    "    'I have SUCCESSFULLY completed the Required HBHB coursee':'No'\n",
    "}\n",
    "new_apps_revised['Qualify for WE'].replace(standardize_WE,inplace=True)"
   ]
  },
  {
   "cell_type": "code",
   "execution_count": null,
   "metadata": {},
   "outputs": [],
   "source": [
    "#Merge in residential info\n",
    "rd_roster = pd.read_csv('SP21-AllResidence.csv')\n",
    "rd_roster.drop_duplicates(subset=['NetID'],keep='first')\n",
    "rd_roster['Current Building']=rd_roster['Room Space Description'].str.split('-',expand=True).rename(columns = {0:'Current Building'})['Current Building']\n",
    "new_apps_merged = pd.merge(left=new_apps_revised,right=rd_roster[['Student Number','LC Placement','Gender Identity','Major','NetID','Current Building']],left_on='Net ID',right_on='NetID',how='left')"
   ]
  },
  {
   "cell_type": "code",
   "execution_count": null,
   "metadata": {},
   "outputs": [],
   "source": [
    "#Sets applicant group column\n",
    "new_apps_merged['Applicant Group'] = new_apps_merged['MidYear Room Placement'].apply(lambda x: 'New' if pd.isnull(x) else 'Spr 21 Hire')\n",
    "\n",
    "#Creates column for LCs of Interest\n",
    "new_apps_merged['LCs of Interest']= new_apps_merged['LC Preference - First'] + ', ' + new_apps_merged['LC Preference - Second'] + ', ' + new_apps_merged['LC Preference - Third']"
   ]
  },
  {
   "cell_type": "code",
   "execution_count": null,
   "metadata": {},
   "outputs": [],
   "source": [
    "new_apps_merged = new_apps_merged[[\n",
    "    'ID','Student Number', 'Name', 'Email', 'Net ID', 'Applicant Group',\n",
    "    'Cell Phone Number', 'Gender Identity', 'Major', 'Number of Semesters Completed at UVM',\n",
    "    'Anticipated Graduation Year', 'Academic College', 'Study Abroad Plans',\n",
    "    'Extracurriculars','Current Building', 'LC Placement', 'LC Preference - First',\n",
    "    'LC Preference - Second', 'LC Preference - Third', 'LCs of Interest',\n",
    "    'Other LCs of Interest', 'Qualify for WE', 'Honors',\n",
    "    'Intent to Apply for CSL', 'Intent to Apply to CSL - Where',\n",
    "    'Prompt 1 Response', 'Prompt 2 Response', 'Prompt 3 Response',\n",
    "    'Prompt 4 Response', 'Prompt 5 Response', 'Application Review 1',\n",
    "    'Application Score 1', 'Application Rationale 1',\n",
    "    'Application Reviewer 2', 'Application Score 2',\n",
    "    'Application Rationale 2', 'Application Total Score',  'Avg. Application Score', 'Interviewer 1',\n",
    "    'Interview Score 1', 'Interview Recommendation 1',\n",
    "    'Interview Rational 1', 'Interviewer 2', 'Interview Score 2',\n",
    "    'Interview Recommendation 2', 'Interview Rational 2','Total Interview Score',    \n",
    "    'Avg. Interview Score','Interview Recommendations', 'Hired for MidYear (Y/N)',\n",
    "    'MidYear Community Placement', 'MidYear Room Placement',\n",
    "    'Candidate Acceptance',\n",
    "]]\n",
    "\n",
    "new_apps_merged"
   ]
  },
  {
   "cell_type": "markdown",
   "metadata": {},
   "source": [
    "## Returners"
   ]
  },
  {
   "cell_type": "code",
   "execution_count": null,
   "metadata": {},
   "outputs": [],
   "source": [
    "#Bring in dataset\n",
    "returner_intent=pd.read_excel('RA Intent to Return Academic Year 2021-22(1-125).xlsx')"
   ]
  },
  {
   "cell_type": "code",
   "execution_count": null,
   "metadata": {},
   "outputs": [],
   "source": [
    "returner_intent.columns"
   ]
  },
  {
   "cell_type": "code",
   "execution_count": null,
   "metadata": {
    "scrolled": false
   },
   "outputs": [],
   "source": [
    "returner_intent.head(3)"
   ]
  },
  {
   "cell_type": "code",
   "execution_count": null,
   "metadata": {},
   "outputs": [],
   "source": [
    "returner_intent['Name']=returner_intent['First Name']+' '+returner_intent['Last name']\n",
    "returner_intent['Applicant Group']='Returner'"
   ]
  },
  {
   "cell_type": "code",
   "execution_count": null,
   "metadata": {},
   "outputs": [],
   "source": [
    "#Remove duplicates. Take the most recent submission\n",
    "returner_intent.drop_duplicates(subset=['Email'],keep='last',inplace=True)\n",
    "\n",
    "#Rename columns as needed\n",
    "returner_column_name_change = {\n",
    "'Will you return to campus and your RA role for 2021-22?':'Intent to Return',\n",
    "'If no, please tell us why you will not be returning':'Intent to Return, No - Why',\n",
    "\"If you intend to return: Please select three Learning Communities where you are interested in working for the '21-'22 year. If you do not select three you will be placed based on the needs of the ...\":'LCs of Interest',\n",
    "'Have you completed the HBHB (WE Course)?':'Qualify for WE',\n",
    "'Are you currently part of the Honors College?':'Honors'\n",
    "}\n",
    "\n",
    "returner_intent=returner_intent.rename(columns = returner_column_name_change)\n",
    "\n",
    "#Checking response of mid-year hres\n",
    "spr_21_hires_df=new_apps_merged[new_apps_merged['Applicant Group']=='Spr 21 Hire'][['Email']].copy()\n",
    "spr_21_hires_df= pd.merge(left=spr_21_hires_df,right=returner_intent[['Email','Intent to Return']],left_on='Email',right_on='Email',how='left')\n",
    "\n",
    "#Filters for those hoping to return\n",
    "returner_intent=returner_intent[returner_intent['Intent to Return']=='Yes']\n",
    "\n",
    "#Filter for those hired in Spring 21\n",
    "spr_21_hires=new_apps_merged[new_apps_merged['Applicant Group']=='Spr 21 Hire']['Email']\n",
    "returner_intent=returner_intent[~returner_intent['Email'].isin(spr_21_hires)]\n",
    "\n",
    "#Make df for relevant columns\n",
    "relevant_columns = [ 'Name','Email',\n",
    "'LCs of Interest',\n",
    "'Qualify for WE','Honors','Applicant Group']\n",
    "returner_intent_revised=returner_intent[relevant_columns].copy()\n",
    "\n",
    "#Creates netid column\n",
    "returner_intent_revised['Net ID']=returner_intent_revised['Email'].str[:-8]\n",
    "\n",
    "#Merge info from residential Roster\n",
    "returner_intent_merged = pd.merge(left=returner_intent_revised,right=rd_roster[['Student Number','LC Placement','Gender Identity','Major','NetID','Current Building']],left_on='Net ID',right_on='NetID',how='left').drop(columns='NetID')\n",
    "\n",
    "\n"
   ]
  },
  {
   "cell_type": "code",
   "execution_count": null,
   "metadata": {},
   "outputs": [],
   "source": [
    "spr_21_hires_df"
   ]
  },
  {
   "cell_type": "markdown",
   "metadata": {},
   "source": [
    "## Creating Union"
   ]
  },
  {
   "cell_type": "code",
   "execution_count": null,
   "metadata": {
    "scrolled": true
   },
   "outputs": [],
   "source": [
    "#Creates data union for new and returner datasets\n",
    "data = [new_apps_merged,returner_intent_merged]\n",
    "complete_df = pd.concat(data,sort=True)\n",
    "\n",
    "#Merging in MidYear Hire Intent\n",
    "complete_df= pd.merge(left=spr_21_hires_df,right=complete_df,left_on='Email',right_on='Email',how='right').rename(columns= {'Intent to Return':'MidYear Hire Intent to Return'})\n",
    "\n",
    "complete_df = complete_df[[\n",
    "    'ID','Student Number', 'Name', 'Email', 'Net ID', 'Applicant Group',\n",
    "    'Cell Phone Number', 'Gender Identity', 'Major', 'Number of Semesters Completed at UVM',\n",
    "    'Anticipated Graduation Year', 'Academic College', 'Study Abroad Plans',\n",
    "    'Extracurriculars', 'Current Building','LC Placement', 'LC Preference - First',\n",
    "    'LC Preference - Second', 'LC Preference - Third',\n",
    "    'Other LCs of Interest', 'LCs of Interest', 'Qualify for WE', 'Honors',\n",
    "    'Intent to Apply for CSL', 'Intent to Apply to CSL - Where',\n",
    "    'Prompt 1 Response', 'Prompt 2 Response', 'Prompt 3 Response',\n",
    "    'Prompt 4 Response', 'Prompt 5 Response', 'Application Review 1',\n",
    "    'Application Score 1', 'Application Rationale 1',\n",
    "    'Application Reviewer 2', 'Application Score 2',\n",
    "    'Application Rationale 2', 'Application Total Score','Avg. Application Score', 'Interviewer 1',\n",
    "    'Interview Score 1', 'Interview Recommendation 1',\n",
    "    'Interview Rational 1', 'Interviewer 2', 'Interview Score 2',\n",
    "    'Interview Recommendation 2', 'Interview Rational 2','Avg. Interview Score', 'Total Interview Score' , \n",
    "    'Interview Recommendations', 'Hired for MidYear (Y/N)',\n",
    "    'MidYear Community Placement', 'MidYear Room Placement',\n",
    "    'Candidate Acceptance', 'MidYear Hire Intent to Return'\n",
    "     \n",
    "]]\n",
    "\n",
    "complete_df[['Hired Status','Placement']] =''\n",
    "\n",
    "complete_df['LC Placement']=complete_df['LC Placement'].apply(lambda x: 'Not A Current Resident' if pd.isnull(x) else x)\n",
    "\n",
    "\n",
    "\n",
    "complete_df.head(5)"
   ]
  },
  {
   "cell_type": "code",
   "execution_count": null,
   "metadata": {},
   "outputs": [],
   "source": [
    "complete_df['Name'].split()"
   ]
  },
  {
   "cell_type": "code",
   "execution_count": null,
   "metadata": {},
   "outputs": [],
   "source": [
    "complete_df"
   ]
  },
  {
   "cell_type": "markdown",
   "metadata": {},
   "source": [
    "## Export"
   ]
  },
  {
   "cell_type": "code",
   "execution_count": null,
   "metadata": {},
   "outputs": [],
   "source": [
    "#This section is completely commented out to avoid creating excel export.\n",
    "\n",
    "# Create a Pandas Excel writer using XlsxWriter as the engine.\n",
    "writer = pd.ExcelWriter('Complete RA Pool.xlsx', engine='xlsxwriter')\n",
    "\n",
    "# Position the dataframes in the worksheet.\n",
    "complete_df.to_excel(writer, sheet_name='Sheet1')  # Default position, cell A1.\n",
    "\n",
    "# Close the Pandas Excel writer and output the Excel file.\n",
    "writer.save()"
   ]
  }
 ],
 "metadata": {
  "kernelspec": {
   "display_name": "Python 3",
   "language": "python",
   "name": "python3"
  },
  "language_info": {
   "codemirror_mode": {
    "name": "ipython",
    "version": 3
   },
   "file_extension": ".py",
   "mimetype": "text/x-python",
   "name": "python",
   "nbconvert_exporter": "python",
   "pygments_lexer": "ipython3",
   "version": "3.8.5"
  }
 },
 "nbformat": 4,
 "nbformat_minor": 2
}
